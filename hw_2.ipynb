{
 "cells": [
  {
   "cell_type": "code",
   "execution_count": 2,
   "metadata": {},
   "outputs": [],
   "source": [
    "import numpy as np"
   ]
  },
  {
   "cell_type": "code",
   "execution_count": 4,
   "metadata": {},
   "outputs": [
    {
     "data": {
      "text/plain": [
       "array([12, 13, 14, 15, 16, 17, 18, 19, 20, 21, 22, 23])"
      ]
     },
     "execution_count": 4,
     "metadata": {},
     "output_type": "execute_result"
    }
   ],
   "source": [
    "# a = np.array([ _ for _ in range(12, 24)])\n",
    "a = np.arange(12, 24)\n",
    "a"
   ]
  },
  {
   "cell_type": "code",
   "execution_count": 26,
   "metadata": {
    "scrolled": true
   },
   "outputs": [
    {
     "name": "stdout",
     "output_type": "stream",
     "text": [
      "Пять массивов различной формы:\n",
      "\n",
      "[[12 13 14 15 16 17]\n",
      " [18 19 20 21 22 23]] \n",
      "\n",
      "[[12 13 14 15]\n",
      " [16 17 18 19]\n",
      " [20 21 22 23]] \n",
      "\n",
      "[[12 13 14]\n",
      " [15 16 17]\n",
      " [18 19 20]\n",
      " [21 22 23]] \n",
      "\n",
      "[[12 13]\n",
      " [14 15]\n",
      " [16 17]\n",
      " [18 19]\n",
      " [20 21]\n",
      " [22 23]] \n",
      "\n",
      "[[12]\n",
      " [13]\n",
      " [14]\n",
      " [15]\n",
      " [16]\n",
      " [17]\n",
      " [18]\n",
      " [19]\n",
      " [20]\n",
      " [21]\n",
      " [22]\n",
      " [23]] \n",
      "\n"
     ]
    }
   ],
   "source": [
    "arrays_list = []\n",
    "arrays_list.extend([a.reshape(i, 12 // i) for i in [2, 3, 4, 6, 12]])\n",
    "\n",
    "print('Пять массивов различной формы:\\n')\n",
    "for array in arrays_list:\n",
    "    print(array, '\\n')"
   ]
  },
  {
   "cell_type": "code",
   "execution_count": 30,
   "metadata": {
    "scrolled": true
   },
   "outputs": [
    {
     "name": "stdout",
     "output_type": "stream",
     "text": [
      "Пять массивов различной формы:\n",
      "\n",
      "[[12 13 14 15 16 17]\n",
      " [18 19 20 21 22 23]] \n",
      "\n",
      "[[12 13 14 15]\n",
      " [16 17 18 19]\n",
      " [20 21 22 23]] \n",
      "\n",
      "[[12 13 14]\n",
      " [15 16 17]\n",
      " [18 19 20]\n",
      " [21 22 23]] \n",
      "\n",
      "[[12 13]\n",
      " [14 15]\n",
      " [16 17]\n",
      " [18 19]\n",
      " [20 21]\n",
      " [22 23]] \n",
      "\n",
      "[[12]\n",
      " [13]\n",
      " [14]\n",
      " [15]\n",
      " [16]\n",
      " [17]\n",
      " [18]\n",
      " [19]\n",
      " [20]\n",
      " [21]\n",
      " [22]\n",
      " [23]] \n",
      "\n"
     ]
    }
   ],
   "source": [
    "arrays_list = []\n",
    "arrays_list.extend([a.reshape(i, -1) for i in [2, 3, 4]])\n",
    "arrays_list.extend([a.reshape(-1, i) for i in [2, 1]])\n",
    "\n",
    "print('Пять массивов различной формы:\\n')\n",
    "for array in arrays_list:\n",
    "    print(array, '\\n')"
   ]
  },
  {
   "cell_type": "code",
   "execution_count": 35,
   "metadata": {},
   "outputs": [
    {
     "name": "stdout",
     "output_type": "stream",
     "text": [
      "Массив, имеющий 12 строк и 1 столбец в numpy имеет размерность 2\n"
     ]
    }
   ],
   "source": [
    "print(f'Массив, имеющий 12 строк и 1 столбец в numpy имеет размерность {arrays_list[-1].ndim}')"
   ]
  },
  {
   "cell_type": "code",
   "execution_count": 45,
   "metadata": {},
   "outputs": [
    {
     "name": "stdout",
     "output_type": "stream",
     "text": [
      "исходный массив size = 12:\n",
      " [[ 0.41515898 -1.25867348 -0.55865322 -1.29138299]\n",
      " [ 0.79018296  1.88785806 -0.3885434   0.99899814]\n",
      " [ 0.0998886   0.8152355  -1.60493243  1.23258648]]\n",
      "\n",
      "одномерный массив size = 12:\n",
      " [ 0.41515898 -1.25867348 -0.55865322 -1.29138299  0.79018296  1.88785806\n",
      " -0.3885434   0.99899814  0.0998886   0.8152355  -1.60493243  1.23258648]\n"
     ]
    }
   ],
   "source": [
    "array = np.random.randn(3, 4)\n",
    "print(f'исходный массив size = {array.size}:\\n {array}')\n",
    "print()\n",
    "print(f'одномерный массив size = {array.flatten().size}:\\n {array.flatten()}')"
   ]
  },
  {
   "cell_type": "markdown",
   "metadata": {},
   "source": [
    "### Задача 6.\n",
    "Создать массив a, состоящий из целых чисел, убывающих от 20 до 0 невключительно с интервалом 2.\n",
    "Создать массив b, состоящий из 1 строки и 10 столбцов: целых чисел, убывающих от 20 до 1 невключительно с интервалом 2.\n",
    "В чем разница между массивами a и b?"
   ]
  },
  {
   "cell_type": "code",
   "execution_count": 56,
   "metadata": {},
   "outputs": [
    {
     "data": {
      "text/plain": [
       "(10,)"
      ]
     },
     "execution_count": 56,
     "metadata": {},
     "output_type": "execute_result"
    }
   ],
   "source": [
    "a = np.arange(20, 0, -2)\n",
    "a.shape"
   ]
  },
  {
   "cell_type": "code",
   "execution_count": 55,
   "metadata": {},
   "outputs": [
    {
     "data": {
      "text/plain": [
       "(1, 10)"
      ]
     },
     "execution_count": 55,
     "metadata": {},
     "output_type": "execute_result"
    }
   ],
   "source": [
    "b = np.arange(20, 1, -2).reshape(1, 10)\n",
    "b.shape"
   ]
  },
  {
   "cell_type": "markdown",
   "metadata": {},
   "source": [
    "### Задача 7.\n",
    "\n",
    "Вертикально соединить массивы a и b. a - двумерный массив из нулей, \n",
    "число строк которого больше 1 и на 1 меньше, чем число строк двумерного \n",
    "массива b, состоящего из единиц.<br><br>\n",
    "Решение:\n",
    "чтобы найти размерности массивов решим простую систему уравнений:<br>\n",
    "ja = jb = j - равенство столбцов, обязателное условие вертикалного соединения массивов\n",
    "<br><br>\n",
    "ia + 1 = ib<br>\n",
    "(ia + ib) * j = 10 - количество элементов результирующего массива\n",
    "<br><br>\n",
    "Получили 3 переменные и 2 уравнения. Однако с учетом ограничений ia, ib, j - целые числа можно найти решение системы:<br>\n",
    "ia = 2<br>\n",
    "ib = 3<br>\n",
    "j = 2"
   ]
  },
  {
   "cell_type": "code",
   "execution_count": 68,
   "metadata": {},
   "outputs": [
    {
     "name": "stdout",
     "output_type": "stream",
     "text": [
      "[[0. 0.]\n",
      " [0. 0.]\n",
      " [1. 1.]\n",
      " [1. 1.]\n",
      " [1. 1.]] \n",
      "\n",
      "size = 10\n"
     ]
    }
   ],
   "source": [
    "a = np.zeros((2, 2))\n",
    "b = np.ones((3, 2))\n",
    "\n",
    "v = np.vstack((a, b))\n",
    "print(v, '\\n')\n",
    "print(f'size = {v.size}')"
   ]
  },
  {
   "cell_type": "markdown",
   "metadata": {},
   "source": [
    "### Задача 8\n",
    "\n",
    "Создать одномерный массив а, состоящий из последовательности целых чисел от 0 до 12.<br>\n",
    "Поменять форму этого массива, чтобы получилась матрица A (двумерный массив Numpy), состоящая из \n",
    "4 строк и 3 столбцов.<br>\n",
    "Получить матрицу At путем транспонирования матрицы A.<br>\n",
    "Получить матрицу B, умножив матрицу A на матрицу At с помощью матричного умножения.<br><br>\n",
    "Какой размер имеет матрица B?\n",
    "Получится ли вычислить обратную матрицу для матрицы B и почему?"
   ]
  },
  {
   "cell_type": "code",
   "execution_count": 76,
   "metadata": {},
   "outputs": [
    {
     "name": "stdout",
     "output_type": "stream",
     "text": [
      "[[ 0  1  2]\n",
      " [ 3  4  5]\n",
      " [ 6  7  8]\n",
      " [ 9 10 11]]\n",
      "\n",
      "[[ 0  3  6  9]\n",
      " [ 1  4  7 10]\n",
      " [ 2  5  8 11]]\n",
      "\n",
      "[[  5  14  23  32]\n",
      " [ 14  50  86 122]\n",
      " [ 23  86 149 212]\n",
      " [ 32 122 212 302]]\n"
     ]
    }
   ],
   "source": [
    "a = np.arange(12)\n",
    "A = a.reshape((4, 3))\n",
    "At = A.T\n",
    "B = np.dot(A, At)\n",
    "print(A)\n",
    "print()\n",
    "print(At)\n",
    "print()\n",
    "print(B)"
   ]
  },
  {
   "cell_type": "code",
   "execution_count": 88,
   "metadata": {},
   "outputs": [
    {
     "name": "stdout",
     "output_type": "stream",
     "text": [
      "Размерность матрицы определеляется кол-вом строк 1 матрицы и столбцов 2: 4X4\n",
      "Количество элементов: 16\n",
      "\n",
      "Определитель матрицы равен 0, матрица вырожденная, обратная матрица не существует.\n"
     ]
    }
   ],
   "source": [
    "print(f'Размерность матрицы определеляется кол-вом строк 1 матрицы и столбцов 2: {A.shape[0]}X{At.shape[1]}\\nКоличество элементов: {B.size}')\n",
    "print()\n",
    "\n",
    "if np.linalg.det(B) == 0:\n",
    "    print(f'Определитель матрицы равен 0, матрица вырожденная, обратная матрица не существует.')"
   ]
  },
  {
   "cell_type": "markdown",
   "metadata": {},
   "source": [
    "### Задача 9.\n",
    "\n",
    "Инициализируйте генератор случайных числе с помощью объекта seed, равного 42.<br>\n",
    "Создайте одномерный массив c, составленный из последовательности 16-ти случайных целых чисел от 0 до 16 невключительно.<br><br>\n",
    "Поменяйте его форму так, чтобы получилась квадратная матрица C.<br>\n",
    "Получите матрицу D, поэлементно прибавив матрицу B из предыдущего вопроса к матрице C, умноженной на 10.<br>\n",
    "Вычислите определитель, ранг и обратную матрицу D_inv для D."
   ]
  },
  {
   "cell_type": "code",
   "execution_count": 95,
   "metadata": {},
   "outputs": [
    {
     "data": {
      "text/plain": [
       "array([[ 6,  3, 12, 14],\n",
       "       [10,  7, 12,  4],\n",
       "       [ 6,  9,  2,  6],\n",
       "       [10, 10,  7,  4]])"
      ]
     },
     "execution_count": 95,
     "metadata": {},
     "output_type": "execute_result"
    }
   ],
   "source": [
    "np.random.seed(42)\n",
    "array = np.random.randint(0, 16, 16)\n",
    "C = array.reshape(4, 4)\n",
    "C"
   ]
  },
  {
   "cell_type": "code",
   "execution_count": 98,
   "metadata": {},
   "outputs": [
    {
     "data": {
      "text/plain": [
       "array([[ 65,  44, 143, 172],\n",
       "       [114, 120, 206, 162],\n",
       "       [ 83, 176, 169, 272],\n",
       "       [132, 222, 282, 342]])"
      ]
     },
     "execution_count": 98,
     "metadata": {},
     "output_type": "execute_result"
    }
   ],
   "source": [
    "D = np.dot(C, 10) + B\n",
    "D"
   ]
  },
  {
   "cell_type": "code",
   "execution_count": 106,
   "metadata": {},
   "outputs": [
    {
     "name": "stdout",
     "output_type": "stream",
     "text": [
      "Определитель:  -28511999.999999944\n",
      "Ранг:  4\n",
      "\n",
      "Обратная матрица:\n",
      " [[ 0.00935396  0.04486532  0.05897517 -0.07286055]\n",
      " [-0.01503577 -0.00122896 -0.00192971  0.00967873]\n",
      " [-0.00356692 -0.01782828 -0.04152146  0.04326178]\n",
      " [ 0.00909091 -0.00181818  0.01272727 -0.01090909]]\n"
     ]
    }
   ],
   "source": [
    "print('Определитель: ', np.linalg.det(D))\n",
    "print('Ранг: ', np.linalg.matrix_rank(D))\n",
    "print('\\nОбратная матрица:\\n', np.linalg.inv(D))"
   ]
  },
  {
   "cell_type": "markdown",
   "metadata": {},
   "source": [
    "### Задача 10\n",
    "\n",
    "\n",
    "Приравняйте к нулю отрицательные числа в матрице D_inv, а положительные - к единице.<br>\n",
    "Убедитесь, что в матрице D_inv остались только нули и единицы.<br><br>\n",
    "С помощью функции numpy.where, используя матрицу D_inv в качестве маски,\n",
    "а матрицы B и C - в качестве источников данных,\n",
    "получите матрицу E размером 4x4.<br><br>\n",
    "Элементы матрицы E, для которых соответствующий элемент матрицы D_inv равен 1,\n",
    "должны быть равны соответствующему элементу матрицы B,<br>\n",
    "а элементы матрицы E, для которых соответствующий элемент матрицы D_inv равен 0,\n",
    "должны быть равны соответствующему элементу матрицы C."
   ]
  },
  {
   "cell_type": "code",
   "execution_count": 108,
   "metadata": {},
   "outputs": [
    {
     "data": {
      "text/plain": [
       "array([[ 0.00935396,  0.04486532,  0.05897517, -0.07286055],\n",
       "       [-0.01503577, -0.00122896, -0.00192971,  0.00967873],\n",
       "       [-0.00356692, -0.01782828, -0.04152146,  0.04326178],\n",
       "       [ 0.00909091, -0.00181818,  0.01272727, -0.01090909]])"
      ]
     },
     "execution_count": 108,
     "metadata": {},
     "output_type": "execute_result"
    }
   ],
   "source": [
    "D_inv = np.linalg.inv(D)\n",
    "D_inv"
   ]
  },
  {
   "cell_type": "code",
   "execution_count": 111,
   "metadata": {},
   "outputs": [
    {
     "data": {
      "text/plain": [
       "array([[1., 1., 1., 0.],\n",
       "       [0., 0., 0., 1.],\n",
       "       [0., 0., 0., 1.],\n",
       "       [1., 0., 1., 0.]])"
      ]
     },
     "execution_count": 111,
     "metadata": {},
     "output_type": "execute_result"
    }
   ],
   "source": [
    "D_inv[np.where(D_inv > 0)] = 1\n",
    "D_inv[np.where(D_inv < 0)] = 0\n",
    "D_inv"
   ]
  },
  {
   "cell_type": "code",
   "execution_count": 114,
   "metadata": {},
   "outputs": [
    {
     "data": {
      "text/plain": [
       "array([[  5,  14,  23,  14],\n",
       "       [ 10,   7,  12, 122],\n",
       "       [  6,   9,   2, 212],\n",
       "       [ 32,  10, 212,   4]])"
      ]
     },
     "execution_count": 114,
     "metadata": {},
     "output_type": "execute_result"
    }
   ],
   "source": [
    "E = np.where(D_inv > 0, B, C)\n",
    "E"
   ]
  },
  {
   "cell_type": "markdown",
   "metadata": {},
   "source": [
    "## Задание 2\n",
    "\n",
    "Создайте массив Numpy под названием a размером 5x2, то есть состоящий из 5 строк и 2 столбцов.<br>\n",
    "Первый столбец должен содержать числа 1, 2, 3, 3, 1, а второй - числа 6, 8, 11, 10, 7.<br><br>\n",
    "Будем считать, что каждый столбец - это признак, а строка - наблюдение.<br>\n",
    "Затем найдите среднее значение по каждому признаку, используя метод mean массива Numpy.<br>\n",
    "Результат запишите в массив mean_a, в нем должно быть 2 элемента."
   ]
  },
  {
   "cell_type": "code",
   "execution_count": 9,
   "metadata": {},
   "outputs": [
    {
     "data": {
      "text/plain": [
       "array([[ 1,  6],\n",
       "       [ 2,  8],\n",
       "       [ 3, 11],\n",
       "       [ 3, 10],\n",
       "       [ 1,  7]])"
      ]
     },
     "execution_count": 9,
     "metadata": {},
     "output_type": "execute_result"
    }
   ],
   "source": [
    "a = np.array(list(zip((1, 2, 3, 3, 1), (6, 8, 11, 10, 7))))\n",
    "a"
   ]
  },
  {
   "cell_type": "code",
   "execution_count": 12,
   "metadata": {},
   "outputs": [
    {
     "data": {
      "text/plain": [
       "array([2. , 8.4])"
      ]
     },
     "execution_count": 12,
     "metadata": {},
     "output_type": "execute_result"
    }
   ],
   "source": [
    "a_mean = a.mean(axis=0)\n",
    "a_mean"
   ]
  },
  {
   "cell_type": "markdown",
   "metadata": {},
   "source": [
    "## Задание 3\n",
    "\n",
    "Вычислите массив a_centered, отняв от значений массива а \n",
    "средние значения соответствующих признаков, содержащиеся в массиве mean_a.\n",
    "Вычисление должно производиться в одно действие.\n",
    "Получившийся массив должен иметь размер 5x2."
   ]
  },
  {
   "cell_type": "code",
   "execution_count": 15,
   "metadata": {},
   "outputs": [
    {
     "data": {
      "text/plain": [
       "array([[-1. , -2.4],\n",
       "       [ 0. , -0.4],\n",
       "       [ 1. ,  2.6],\n",
       "       [ 1. ,  1.6],\n",
       "       [-1. , -1.4]])"
      ]
     },
     "execution_count": 15,
     "metadata": {},
     "output_type": "execute_result"
    }
   ],
   "source": [
    "a_centered = a - a_mean\n",
    "a_centered"
   ]
  },
  {
   "cell_type": "markdown",
   "metadata": {},
   "source": [
    "## Задание 4\n",
    "\n",
    "Найдите скалярное произведение столбцов массива a_centered.<br>\n",
    "В результате должна получиться величина a_centered_sp. <br>\n",
    "Затем поделите a_centered_sp на N-1, где N - число наблюдений."
   ]
  },
  {
   "cell_type": "code",
   "execution_count": 29,
   "metadata": {},
   "outputs": [
    {
     "data": {
      "text/plain": [
       "2.0"
      ]
     },
     "execution_count": 29,
     "metadata": {},
     "output_type": "execute_result"
    }
   ],
   "source": [
    "a_centered_sp = np.dot(a_centered[:, 0], a_centered[:, 1])\n",
    "a_cov = a_centered_sp / (len(a_centered) - 1)\n",
    "a_cov"
   ]
  },
  {
   "cell_type": "markdown",
   "metadata": {},
   "source": [
    "## Задание 5\n",
    "\n",
    "Число, которое мы получили в конце задания 3 является \n",
    "ковариацией двух признаков, содержащихся в массиве а.<br><br>\n",
    "В задании 4 мы делили сумму произведений центрированных \n",
    "признаков на N-1, а не на N, поэтому полученная нами величина \n",
    "является несмещенной оценкой ковариации.<br><br>\n",
    "\n",
    "В этом задании проверьте получившееся число, вычислив\n",
    "ковариацию еще одним способом - с помощью функции np.cov.<br>\n",
    "В качестве аргумента m функция np.cov должна принимать транспонированный массив a.\n",
    "В получившейся ковариационной матрице (массив Numpy размером 2x2) искомое значение \n",
    "ковариации будет равно элементу в строке с индексом 0 и столбце с индексом 1."
   ]
  },
  {
   "cell_type": "code",
   "execution_count": 31,
   "metadata": {},
   "outputs": [
    {
     "name": "stdout",
     "output_type": "stream",
     "text": [
      "[[1.  2. ]\n",
      " [2.  4.3]]\n",
      "covarience = 2.0\n"
     ]
    }
   ],
   "source": [
    "cov_matrix = np.cov(a.T)\n",
    "print(cov_matrix)\n",
    "print(f'covarience = {cov_matrix[0, 1]}')"
   ]
  },
  {
   "cell_type": "code",
   "execution_count": null,
   "metadata": {},
   "outputs": [],
   "source": []
  }
 ],
 "metadata": {
  "kernelspec": {
   "display_name": "Python 3",
   "language": "python",
   "name": "python3"
  },
  "language_info": {
   "codemirror_mode": {
    "name": "ipython",
    "version": 3
   },
   "file_extension": ".py",
   "mimetype": "text/x-python",
   "name": "python",
   "nbconvert_exporter": "python",
   "pygments_lexer": "ipython3",
   "version": "3.6.8"
  }
 },
 "nbformat": 4,
 "nbformat_minor": 2
}
