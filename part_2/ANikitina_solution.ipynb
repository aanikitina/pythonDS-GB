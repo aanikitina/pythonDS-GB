{
 "cells": [
  {
   "cell_type": "code",
   "execution_count": 1,
   "metadata": {},
   "outputs": [],
   "source": [
    "import pandas as pd\n",
    "import numpy as np\n",
    "import seaborn as sns\n",
    "import re\n",
    "\n",
    "from matplotlib import pyplot as plt, rcParams\n",
    "\n",
    "%matplotlib inline\n",
    "%config InlineBackend.figure_format = 'svg'\n",
    "rcParams['figure.autolayout'] = False\n",
    "\n",
    "pd.options.display.max_columns = 100"
   ]
  },
  {
   "cell_type": "markdown",
   "metadata": {},
   "source": [
    "### Data preparation"
   ]
  },
  {
   "cell_type": "code",
   "execution_count": 2,
   "metadata": {},
   "outputs": [],
   "source": [
    "DATA_DIR = 'course_project_data/'\n",
    "TRAIN_DATA_FNAME = 'course_project_train.csv'\n",
    "TEST_DATA_FNAME = 'course_project_test.csv'\n",
    "\n",
    "TARGET_NAME = 'Credit Default'"
   ]
  },
  {
   "cell_type": "code",
   "execution_count": 3,
   "metadata": {},
   "outputs": [],
   "source": [
    "def check_data(df):\n",
    "    print(df.info())\n",
    "    print()\n",
    "    for col_name in df.select_dtypes(include='object').columns:\n",
    "        print(str(col_name)+'   \\n'+str(df[col_name].value_counts()))\n",
    "        print()\n",
    "    print('Check NULLs')\n",
    "    print(len(df)-df.count())"
   ]
  },
  {
   "cell_type": "code",
   "execution_count": 4,
   "metadata": {},
   "outputs": [],
   "source": [
    "df_train = pd.read_csv(f'{DATA_DIR}{TRAIN_DATA_FNAME}')\n",
    "df_test = pd.read_csv(f'{DATA_DIR}{TEST_DATA_FNAME}')"
   ]
  },
  {
   "cell_type": "code",
   "execution_count": null,
   "metadata": {},
   "outputs": [],
   "source": []
  },
  {
   "cell_type": "code",
   "execution_count": 5,
   "metadata": {
    "scrolled": false
   },
   "outputs": [
    {
     "name": "stdout",
     "output_type": "stream",
     "text": [
      "<class 'pandas.core.frame.DataFrame'>\n",
      "RangeIndex: 7500 entries, 0 to 7499\n",
      "Data columns (total 17 columns):\n",
      "Home Ownership                  7500 non-null object\n",
      "Annual Income                   5943 non-null float64\n",
      "Years in current job            7129 non-null object\n",
      "Tax Liens                       7500 non-null float64\n",
      "Number of Open Accounts         7500 non-null float64\n",
      "Years of Credit History         7500 non-null float64\n",
      "Maximum Open Credit             7500 non-null float64\n",
      "Number of Credit Problems       7500 non-null float64\n",
      "Months since last delinquent    3419 non-null float64\n",
      "Bankruptcies                    7486 non-null float64\n",
      "Purpose                         7500 non-null object\n",
      "Term                            7500 non-null object\n",
      "Current Loan Amount             7500 non-null float64\n",
      "Current Credit Balance          7500 non-null float64\n",
      "Monthly Debt                    7500 non-null float64\n",
      "Credit Score                    5943 non-null float64\n",
      "Credit Default                  7500 non-null int64\n",
      "dtypes: float64(12), int64(1), object(4)\n",
      "memory usage: 996.2+ KB\n",
      "None\n",
      "\n",
      "Home Ownership   \n",
      "Home Mortgage    3637\n",
      "Rent             3204\n",
      "Own Home          647\n",
      "Have Mortgage      12\n",
      "Name: Home Ownership, dtype: int64\n",
      "\n",
      "Years in current job   \n",
      "10+ years    2332\n",
      "2 years       705\n",
      "3 years       620\n",
      "< 1 year      563\n",
      "5 years       516\n",
      "1 year        504\n",
      "4 years       469\n",
      "6 years       426\n",
      "7 years       396\n",
      "8 years       339\n",
      "9 years       259\n",
      "Name: Years in current job, dtype: int64\n",
      "\n",
      "Purpose   \n",
      "debt consolidation      5944\n",
      "other                    665\n",
      "home improvements        412\n",
      "business loan            129\n",
      "buy a car                 96\n",
      "medical bills             71\n",
      "major purchase            40\n",
      "take a trip               37\n",
      "buy house                 34\n",
      "small business            26\n",
      "wedding                   15\n",
      "moving                    11\n",
      "educational expenses      10\n",
      "vacation                   8\n",
      "renewable energy           2\n",
      "Name: Purpose, dtype: int64\n",
      "\n",
      "Term   \n",
      "Short Term    5556\n",
      "Long Term     1944\n",
      "Name: Term, dtype: int64\n",
      "\n",
      "Check NULLs\n",
      "Home Ownership                     0\n",
      "Annual Income                   1557\n",
      "Years in current job             371\n",
      "Tax Liens                          0\n",
      "Number of Open Accounts            0\n",
      "Years of Credit History            0\n",
      "Maximum Open Credit                0\n",
      "Number of Credit Problems          0\n",
      "Months since last delinquent    4081\n",
      "Bankruptcies                      14\n",
      "Purpose                            0\n",
      "Term                               0\n",
      "Current Loan Amount                0\n",
      "Current Credit Balance             0\n",
      "Monthly Debt                       0\n",
      "Credit Score                    1557\n",
      "Credit Default                     0\n",
      "dtype: int64\n"
     ]
    }
   ],
   "source": [
    "check_data(df_train)"
   ]
  },
  {
   "cell_type": "code",
   "execution_count": 6,
   "metadata": {},
   "outputs": [],
   "source": [
    "def prepare_years(df):\n",
    "    df.loc[df['Years in current job'] == '< 1 year', 'Years in current job'] = 0\n",
    "    df['Years in current job'] = list(map(float, df['Years in current job'].str.replace(r'\\D', '')))\n",
    "    \n",
    "    # df['Years in current job'].value_counts()/len(df['Years in current job'])\n",
    "    \n",
    "    df.loc[df['Years in current job'].isna(), 'flag_empty_job_years'] = 1\n",
    "    df.loc[~df['Years in current job'].isna(), 'flag_empty_job_years'] = 0\n",
    "    return df"
   ]
  },
  {
   "cell_type": "code",
   "execution_count": 7,
   "metadata": {},
   "outputs": [],
   "source": [
    "def gen_flags_fill_nas(df):\n",
    "    \n",
    "    df.loc[df['Months since last delinquent'].isna(), 'flag_empty_delinquent'] = 1\n",
    "    df.loc[~df['Months since last delinquent'].isna(), 'flag_empty_delinquent'] = 0\n",
    "    \n",
    "    df.loc[df['Current Loan Amount'] < 1e+7, 'flag_max_loan'] = 0\n",
    "    df.loc[~(df['Current Loan Amount'] < 1e+7), 'flag_max_loan'] = 1\n",
    "    \n",
    "    df['Months since last delinquent'] = df['Months since last delinquent'].fillna(118 + 12)  # max + year\n",
    "    \n",
    "    df.loc[df['Number of Credit Problems']==0, 'flag_no_problems'] = 1\n",
    "    df.loc[df['Number of Credit Problems']>0, 'flag_no_problems'] = 0\n",
    "    \n",
    "    df['Bankruptcies'] = df['Bankruptcies'].fillna(0)\n",
    "    df.loc[df['Bankruptcies']==0, 'flag_no_bancruptcies'] = 1\n",
    "    df.loc[df['Bankruptcies']>0, 'flag_no_bancruptcies'] = 0\n",
    "    \n",
    "    df['flag_long_term']=df['Term'].map({'Long Term':'1','Short Term':'0'}).astype(int)\n",
    "    \n",
    "    df.loc[df['Annual Income'].isna(), 'flag_empty_income'] = 1\n",
    "    df.loc[~(df['Annual Income'].isna()), 'flag_empty_income'] = 0\n",
    "    \n",
    "    \n",
    "    # использование на выбор: заполнение медианным значением или нулями\n",
    "    df['annual_income_zerona'] = df['Annual Income'].fillna(0)\n",
    "    df['annual_income_medna'] = df['Annual Income'].fillna(df['Annual Income'].median())\n",
    "    \n",
    "    df['Credit Score medna'] = df['Credit Score'].fillna(df['Credit Score'].median())\n",
    "    df['Credit Score zerona'] = df['Credit Score'].fillna(0)\n",
    "    \n",
    "    df['Years in current job'] = df['Years in current job'].fillna(0)\n",
    "    \n",
    "    features = pd.DataFrame(index=df.index)\n",
    "    \n",
    "    old_features_names = ['Years in current job', 'Tax Liens',\n",
    "       'Number of Open Accounts', 'Years of Credit History',\n",
    "       'Maximum Open Credit', 'Number of Credit Problems',\n",
    "       'Months since last delinquent', 'Bankruptcies',\n",
    "       'Current Loan Amount', 'Current Credit Balance', 'Monthly Debt',\n",
    "        'annual_income_zerona', 'annual_income_medna', 'Credit Score medna',\n",
    "       'Credit Score zerona']\n",
    "    \n",
    "    features = df[old_features_names]\n",
    "    features.columns = [x.lower().replace(' ', '_') for x in features.columns]\n",
    "    \n",
    "    features['monthly_debt_annual_income_medna'] = features['monthly_debt']/features['annual_income_medna']\n",
    "    \n",
    "    return df, features"
   ]
  },
  {
   "cell_type": "code",
   "execution_count": 8,
   "metadata": {},
   "outputs": [],
   "source": [
    "def get_col_dummies(df, colname, drop_val=None, drop_first=False):\n",
    "    if drop_val:\n",
    "        dummies_df = pd.get_dummies(df[colname])\n",
    "        dummies_df.drop(drop_val, axis=1)\n",
    "    else:\n",
    "        dummies_df = pd.get_dummies(df[colname], drop_first=drop_first)\n",
    "        \n",
    "    dummies_df.columns = [f\"{colname.lower().replace(' ', '_')}_{x.lower().replace(' ', '_')}\" for x in dummies_df.columns]\n",
    "    return dummies_df\n",
    "\n",
    "def add_col_dummies(from_df, colname, to_df=None, drop_val=None, drop_first=False):\n",
    "    if type(to_df)!=pd.core.frame.DataFrame:\n",
    "        to_df = from_df\n",
    "    dummies = get_col_dummies(from_df, colname, drop_val, drop_first)\n",
    "    to_df = pd.concat([to_df, dummies], axis=1)\n",
    "    return to_df"
   ]
  },
  {
   "cell_type": "code",
   "execution_count": 9,
   "metadata": {},
   "outputs": [],
   "source": [
    "def gen_dummies(features, df):\n",
    "    features = add_col_dummies(df, 'Purpose', drop_val='other', to_df=features)\n",
    "    features = add_col_dummies(df, 'Home Ownership', drop_val='Have Mortgage', to_df=features)\n",
    "    features = pd.concat([features, df[df.columns[[bool(x.find('flag') + 1) for x in df.columns]]]], axis=1)\n",
    "    return features"
   ]
  },
  {
   "cell_type": "code",
   "execution_count": 10,
   "metadata": {},
   "outputs": [],
   "source": [
    "def features_prep(df, set_name):\n",
    "    df = prepare_years(df)\n",
    "    df, features = gen_flags_fill_nas(df)\n",
    "    features = gen_dummies(features, df)\n",
    "    features.to_pickle(f'features_{set_name}.pkl')\n",
    "    if set_name=='train':\n",
    "        df[TARGET_NAME].to_pickle(f'target_{set_name}.pkl')"
   ]
  },
  {
   "cell_type": "code",
   "execution_count": 11,
   "metadata": {},
   "outputs": [],
   "source": [
    "def corr_matrix(features, df):\n",
    "    plt.figure(figsize = (15,10))\n",
    "\n",
    "    sns.set(font_scale=0.5)\n",
    "    sns.heatmap(pd.concat([features, df[TARGET_NAME]], axis=1).corr().round(3), annot=True, linewidths=.5, cmap='GnBu')\n",
    "\n",
    "    plt.title('Correlation matrix')\n",
    "    plt.show()"
   ]
  },
  {
   "cell_type": "code",
   "execution_count": 12,
   "metadata": {},
   "outputs": [
    {
     "name": "stderr",
     "output_type": "stream",
     "text": [
      "/Users/anastasia/anaconda3/lib/python3.7/site-packages/ipykernel_launcher.py:46: SettingWithCopyWarning: \n",
      "A value is trying to be set on a copy of a slice from a DataFrame.\n",
      "Try using .loc[row_indexer,col_indexer] = value instead\n",
      "\n",
      "See the caveats in the documentation: http://pandas.pydata.org/pandas-docs/stable/user_guide/indexing.html#returning-a-view-versus-a-copy\n"
     ]
    }
   ],
   "source": [
    "features_prep(df_train, 'train')"
   ]
  },
  {
   "cell_type": "code",
   "execution_count": 13,
   "metadata": {},
   "outputs": [
    {
     "name": "stderr",
     "output_type": "stream",
     "text": [
      "/Users/anastasia/anaconda3/lib/python3.7/site-packages/ipykernel_launcher.py:46: SettingWithCopyWarning: \n",
      "A value is trying to be set on a copy of a slice from a DataFrame.\n",
      "Try using .loc[row_indexer,col_indexer] = value instead\n",
      "\n",
      "See the caveats in the documentation: http://pandas.pydata.org/pandas-docs/stable/user_guide/indexing.html#returning-a-view-versus-a-copy\n"
     ]
    }
   ],
   "source": [
    "features_prep(df_test, 'test')"
   ]
  },
  {
   "cell_type": "code",
   "execution_count": null,
   "metadata": {},
   "outputs": [],
   "source": []
  },
  {
   "cell_type": "markdown",
   "metadata": {},
   "source": [
    "### Model generation"
   ]
  },
  {
   "cell_type": "code",
   "execution_count": 14,
   "metadata": {},
   "outputs": [
    {
     "name": "stderr",
     "output_type": "stream",
     "text": [
      "/Users/anastasia/anaconda3/lib/python3.7/site-packages/lightgbm/__init__.py:48: UserWarning: Starting from version 2.2.1, the library file in distribution wheels for macOS is built by the Apple Clang (Xcode_8.3.3) compiler.\n",
      "This means that in case of installing LightGBM from PyPI via the ``pip install lightgbm`` command, you don't need to install the gcc compiler anymore.\n",
      "Instead of that, you need to install the OpenMP library, which is required for running LightGBM on the system with the Apple Clang compiler.\n",
      "You can install the OpenMP library by the following command: ``brew install libomp``.\n",
      "  \"You can install the OpenMP library by the following command: ``brew install libomp``.\", UserWarning)\n"
     ]
    }
   ],
   "source": [
    "import pandas as pd\n",
    "import numpy as np\n",
    "import pickle\n",
    "import random\n",
    "\n",
    "from sklearn.preprocessing import StandardScaler, MinMaxScaler\n",
    "from sklearn.model_selection import train_test_split, ShuffleSplit, cross_val_score, learning_curve\n",
    "from sklearn.model_selection import KFold, GridSearchCV, RandomizedSearchCV\n",
    "from sklearn.metrics import classification_report, f1_score, precision_score, recall_score\n",
    "\n",
    "from sklearn.linear_model import LogisticRegression\n",
    "from sklearn.neighbors import KNeighborsClassifier\n",
    "import xgboost as xgb, lightgbm as lgbm, catboost as catb\n",
    "\n",
    "import seaborn as sns\n",
    "from matplotlib import pyplot as plt\n",
    "%matplotlib inline"
   ]
  },
  {
   "cell_type": "code",
   "execution_count": 15,
   "metadata": {},
   "outputs": [],
   "source": [
    "import warnings\n",
    "warnings.simplefilter('ignore')"
   ]
  },
  {
   "cell_type": "code",
   "execution_count": 16,
   "metadata": {},
   "outputs": [],
   "source": [
    "def get_classification_report(y_train_true, y_train_pred, y_test_true, y_test_pred):\n",
    "    print('TRAIN\\n\\n' + classification_report(y_train_true, y_train_pred))\n",
    "    print('TEST\\n\\n' + classification_report(y_test_true, y_test_pred))\n",
    "    print('CONFUSION MATRIX\\n')\n",
    "    print(pd.crosstab(y_test_true, y_test_pred))"
   ]
  },
  {
   "cell_type": "code",
   "execution_count": 17,
   "metadata": {},
   "outputs": [],
   "source": [
    "def balance_df_by_target(df, target_name):\n",
    "\n",
    "    target_counts = df[target_name].value_counts()\n",
    "\n",
    "    major_class_name = target_counts.argmax()\n",
    "    minor_class_name = target_counts.argmin()\n",
    "\n",
    "    disbalance_coeff = int(target_counts[major_class_name] / target_counts[minor_class_name]) - 1\n",
    "\n",
    "    for i in range(disbalance_coeff):\n",
    "        sample = df[df[target_name] == minor_class_name].sample(target_counts[minor_class_name])\n",
    "        df = df.append(sample, ignore_index=True)\n",
    "\n",
    "    return df.sample(frac=1)"
   ]
  },
  {
   "cell_type": "code",
   "execution_count": 18,
   "metadata": {},
   "outputs": [],
   "source": [
    "def new_balansing(df, target_name, k=1):\n",
    "\n",
    "    target_counts = df[target_name].value_counts()\n",
    "\n",
    "    major_class_name = target_counts.argmax()\n",
    "    minor_class_name = target_counts.argmin()\n",
    "\n",
    "    disbalance_coeff = int(target_counts[major_class_name] / target_counts[minor_class_name])\n",
    "\n",
    "\n",
    "    major_sample = df[df[target_name] == major_class_name].sample(int(target_counts[major_class_name]/disbalance_coeff * k))\n",
    "    minor_sample = df[df[target_name] == minor_class_name]\n",
    "\n",
    "    new_df = major_sample\n",
    "    new_df = new_df.append(minor_sample)\n",
    "    return new_df.sample(frac=1)"
   ]
  },
  {
   "cell_type": "code",
   "execution_count": 19,
   "metadata": {},
   "outputs": [],
   "source": [
    "# input\n",
    "# DATASET_PATH = '../training_project_data.csv'\n",
    "FEATURES_PATH = 'features_train.pkl'\n",
    "TARGET_PATH = 'target_train.pkl'\n",
    "\n",
    "# output\n",
    "TRAIN_FULL_PATH = '../training_project_train_full.csv'\n",
    "TRAIN_PART_PATH = '../training_project_train_part_b.csv'\n",
    "TEST_PART_PATH = '../training_project_test_part.csv'\n",
    "\n",
    "SCALER_FILE_PATH = 'scaler.pkl'\n",
    "\n",
    "TARGET_NAME = 'Credit Default'"
   ]
  },
  {
   "cell_type": "code",
   "execution_count": 20,
   "metadata": {},
   "outputs": [],
   "source": [
    "features_df = pd.read_pickle(FEATURES_PATH)\n",
    "features_df.head()\n",
    "\n",
    "target = pd.read_pickle(TARGET_PATH)"
   ]
  },
  {
   "cell_type": "code",
   "execution_count": 21,
   "metadata": {},
   "outputs": [
    {
     "data": {
      "text/plain": [
       "Index(['years_in_current_job', 'tax_liens', 'number_of_open_accounts',\n",
       "       'years_of_credit_history', 'maximum_open_credit',\n",
       "       'number_of_credit_problems', 'months_since_last_delinquent',\n",
       "       'bankruptcies', 'current_loan_amount', 'current_credit_balance',\n",
       "       'monthly_debt', 'annual_income_zerona', 'annual_income_medna',\n",
       "       'credit_score_medna', 'credit_score_zerona',\n",
       "       'monthly_debt_annual_income_medna', 'purpose_business_loan',\n",
       "       'purpose_buy_a_car', 'purpose_buy_house', 'purpose_debt_consolidation',\n",
       "       'purpose_educational_expenses', 'purpose_home_improvements',\n",
       "       'purpose_major_purchase', 'purpose_medical_bills', 'purpose_moving',\n",
       "       'purpose_other', 'purpose_renewable_energy', 'purpose_small_business',\n",
       "       'purpose_take_a_trip', 'purpose_vacation', 'purpose_wedding',\n",
       "       'home_ownership_have_mortgage', 'home_ownership_home_mortgage',\n",
       "       'home_ownership_own_home', 'home_ownership_rent',\n",
       "       'flag_empty_job_years', 'flag_empty_delinquent', 'flag_max_loan',\n",
       "       'flag_no_problems', 'flag_no_bancruptcies', 'flag_long_term',\n",
       "       'flag_empty_income'],\n",
       "      dtype='object')"
      ]
     },
     "execution_count": 21,
     "metadata": {},
     "output_type": "execute_result"
    }
   ],
   "source": [
    "features_df.columns"
   ]
  },
  {
   "cell_type": "code",
   "execution_count": 22,
   "metadata": {},
   "outputs": [],
   "source": [
    "# не забыть \"ВЫБИРАТЬ\" 'annual_income_zerona', 'annual_income_medna'\n",
    "\n",
    "NUM_FEATURE_NAMES = ['years_in_current_job', 'tax_liens', 'number_of_open_accounts',\n",
    "       'years_of_credit_history', 'maximum_open_credit',\n",
    "       'number_of_credit_problems', 'months_since_last_delinquent',\n",
    "       'bankruptcies', 'current_loan_amount', 'current_credit_balance',\n",
    "       'monthly_debt', 'credit_score_medna', 'credit_score_zerona', 'annual_income_zerona',\n",
    "       'annual_income_medna', 'monthly_debt_annual_income_medna']\n",
    "\n",
    "# CAT_FEATURE_NAMES = [] # надо заполнить и добавть в prep категориальные данные без one-hot!!!\n",
    "\n",
    "FLAG_FEATURE_NAME = ['flag_empty_job_years', 'flag_empty_delinquent', 'flag_max_loan',\n",
    "       'flag_no_problems', 'flag_no_bancruptcies', 'flag_long_term',\n",
    "       'flag_empty_income']\n",
    "\n",
    "ONE_HOT_FEATURE_NAME = ['annual_income_medna', 'purpose_business_loan', 'purpose_buy_a_car',\n",
    "       'purpose_buy_house', 'purpose_debt_consolidation',\n",
    "       'purpose_educational_expenses', 'purpose_home_improvements',\n",
    "       'purpose_major_purchase', 'purpose_medical_bills', 'purpose_moving',\n",
    "       'purpose_other', 'purpose_renewable_energy', 'purpose_small_business',\n",
    "       'purpose_take_a_trip', 'purpose_vacation', 'purpose_wedding',\n",
    "       'home_ownership_have_mortgage', 'home_ownership_home_mortgage',\n",
    "       'home_ownership_own_home', 'home_ownership_rent']"
   ]
  },
  {
   "cell_type": "code",
   "execution_count": 23,
   "metadata": {},
   "outputs": [],
   "source": [
    "def select_x_y(features_df, target):\n",
    "    X = features_df.drop('annual_income_zerona', axis=1)\n",
    "    X = features_df.drop('credit_score_medna', axis=1)\n",
    "    # X = features_df.drop(ONE_HOT_FEATURE_NAME, axis=1)\n",
    "    y = target\n",
    "    return X, y"
   ]
  },
  {
   "cell_type": "code",
   "execution_count": 24,
   "metadata": {},
   "outputs": [],
   "source": [
    "X, y = select_x_y(features_df, target)"
   ]
  },
  {
   "cell_type": "code",
   "execution_count": 25,
   "metadata": {},
   "outputs": [],
   "source": [
    "X_train, X_test, y_train, y_test = train_test_split(X, y, shuffle=True, test_size=0.3, random_state=21)"
   ]
  },
  {
   "cell_type": "code",
   "execution_count": 26,
   "metadata": {},
   "outputs": [
    {
     "data": {
      "text/plain": [
       "0    3771\n",
       "1    1479\n",
       "Name: Credit Default, dtype: int64"
      ]
     },
     "execution_count": 26,
     "metadata": {},
     "output_type": "execute_result"
    }
   ],
   "source": [
    "df_for_balancing = pd.concat([X_train, y_train], axis=1)\n",
    "df_for_balancing[TARGET_NAME].value_counts()"
   ]
  },
  {
   "cell_type": "code",
   "execution_count": 27,
   "metadata": {},
   "outputs": [
    {
     "data": {
      "text/plain": [
       "0    3771\n",
       "1    1479\n",
       "Name: Credit Default, dtype: int64"
      ]
     },
     "execution_count": 27,
     "metadata": {},
     "output_type": "execute_result"
    }
   ],
   "source": [
    "df_for_balancing = pd.concat([X_train, y_train], axis=1)\n",
    "df_balanced = new_balansing(df_for_balancing, TARGET_NAME, k=2)\n",
    "    \n",
    "df_balanced[TARGET_NAME].value_counts()"
   ]
  },
  {
   "cell_type": "code",
   "execution_count": 28,
   "metadata": {},
   "outputs": [],
   "source": [
    "X_train = df_balanced.drop(columns=TARGET_NAME)\n",
    "y_train = df_balanced[TARGET_NAME]"
   ]
  },
  {
   "cell_type": "code",
   "execution_count": 29,
   "metadata": {},
   "outputs": [],
   "source": [
    "train = pd.concat([X_train, y_train], axis=1)\n",
    "test = pd.concat([X_test, y_test], axis=1)"
   ]
  },
  {
   "cell_type": "code",
   "execution_count": 30,
   "metadata": {},
   "outputs": [],
   "source": [
    "train.to_csv(TRAIN_PART_PATH, index=False, encoding='utf-8')\n",
    "test.to_csv(TEST_PART_PATH, index=False, encoding='utf-8')"
   ]
  },
  {
   "cell_type": "code",
   "execution_count": 31,
   "metadata": {},
   "outputs": [
    {
     "name": "stdout",
     "output_type": "stream",
     "text": [
      "TRAIN\n",
      "\n",
      "              precision    recall  f1-score   support\n",
      "\n",
      "           0       0.86      0.86      0.86      3771\n",
      "           1       0.64      0.64      0.64      1479\n",
      "\n",
      "    accuracy                           0.80      5250\n",
      "   macro avg       0.75      0.75      0.75      5250\n",
      "weighted avg       0.80      0.80      0.80      5250\n",
      "\n",
      "TEST\n",
      "\n",
      "              precision    recall  f1-score   support\n",
      "\n",
      "           0       0.82      0.82      0.82      1616\n",
      "           1       0.54      0.53      0.54       634\n",
      "\n",
      "    accuracy                           0.74      2250\n",
      "   macro avg       0.68      0.68      0.68      2250\n",
      "weighted avg       0.74      0.74      0.74      2250\n",
      "\n",
      "CONFUSION MATRIX\n",
      "\n",
      "col_0              0    1\n",
      "Credit Default           \n",
      "0               1333  283\n",
      "1                298  336\n",
      "CPU times: user 1.3 s, sys: 9.47 ms, total: 1.31 s\n",
      "Wall time: 1.34 s\n"
     ]
    }
   ],
   "source": [
    "%%time\n",
    "\n",
    "final_model = xgb.XGBClassifier(colsample_bytree=1,\n",
    "                       scale_pos_weight=2,\n",
    "                       subsample=0.5,\n",
    "                        random_state=21, reg_lambda=20,\n",
    "                        nrounds=700,\n",
    "                        max_depth=4)\n",
    "\n",
    "final_model.fit(X_train, y_train)\n",
    "\n",
    "y_train_pred = final_model.predict(X_train)\n",
    "y_test_pred = final_model.predict(X_test)\n",
    "\n",
    "get_classification_report(y_train, y_train_pred, y_test, y_test_pred)"
   ]
  },
  {
   "cell_type": "code",
   "execution_count": 32,
   "metadata": {},
   "outputs": [
    {
     "data": {
      "text/plain": [
       "XGBClassifier(base_score=0.5, booster='gbtree', colsample_bylevel=1,\n",
       "              colsample_bynode=1, colsample_bytree=1, gamma=0,\n",
       "              learning_rate=0.1, max_delta_step=0, max_depth=4,\n",
       "              min_child_weight=1, missing=None, n_estimators=100, n_jobs=1,\n",
       "              nrounds=700, nthread=None, objective='binary:logistic',\n",
       "              random_state=21, reg_alpha=0, reg_lambda=20, scale_pos_weight=2,\n",
       "              seed=None, silent=None, subsample=0.5, verbosity=1)"
      ]
     },
     "execution_count": 32,
     "metadata": {},
     "output_type": "execute_result"
    }
   ],
   "source": [
    "final_model = xgb.XGBClassifier(colsample_bytree=1,\n",
    "                       scale_pos_weight=2,\n",
    "                       subsample=0.5,\n",
    "                        random_state=21, reg_lambda=20,\n",
    "                        nrounds=700,\n",
    "                        max_depth=4)\n",
    "\n",
    "final_model.fit(X, y)"
   ]
  },
  {
   "cell_type": "code",
   "execution_count": null,
   "metadata": {},
   "outputs": [],
   "source": []
  },
  {
   "cell_type": "code",
   "execution_count": 33,
   "metadata": {},
   "outputs": [],
   "source": [
    "TEST_FEATURES_PATH = 'features_test.pkl'"
   ]
  },
  {
   "cell_type": "code",
   "execution_count": 34,
   "metadata": {},
   "outputs": [],
   "source": [
    "test_features = pd.read_pickle(TEST_FEATURES_PATH)"
   ]
  },
  {
   "cell_type": "code",
   "execution_count": 35,
   "metadata": {},
   "outputs": [
    {
     "name": "stdout",
     "output_type": "stream",
     "text": [
      "<class 'pandas.core.frame.DataFrame'>\n",
      "RangeIndex: 2500 entries, 0 to 2499\n",
      "Data columns (total 41 columns):\n",
      "years_in_current_job                2500 non-null float64\n",
      "tax_liens                           2500 non-null float64\n",
      "number_of_open_accounts             2500 non-null float64\n",
      "years_of_credit_history             2500 non-null float64\n",
      "maximum_open_credit                 2500 non-null float64\n",
      "number_of_credit_problems           2500 non-null float64\n",
      "months_since_last_delinquent        2500 non-null float64\n",
      "bankruptcies                        2500 non-null float64\n",
      "current_loan_amount                 2500 non-null float64\n",
      "current_credit_balance              2500 non-null float64\n",
      "monthly_debt                        2500 non-null float64\n",
      "annual_income_zerona                2500 non-null float64\n",
      "annual_income_medna                 2500 non-null float64\n",
      "credit_score_medna                  2500 non-null float64\n",
      "credit_score_zerona                 2500 non-null float64\n",
      "monthly_debt_annual_income_medna    2500 non-null float64\n",
      "purpose_business_loan               2500 non-null uint8\n",
      "purpose_buy_a_car                   2500 non-null uint8\n",
      "purpose_buy_house                   2500 non-null uint8\n",
      "purpose_debt_consolidation          2500 non-null uint8\n",
      "purpose_educational_expenses        2500 non-null uint8\n",
      "purpose_home_improvements           2500 non-null uint8\n",
      "purpose_major_purchase              2500 non-null uint8\n",
      "purpose_medical_bills               2500 non-null uint8\n",
      "purpose_moving                      2500 non-null uint8\n",
      "purpose_other                       2500 non-null uint8\n",
      "purpose_small_business              2500 non-null uint8\n",
      "purpose_take_a_trip                 2500 non-null uint8\n",
      "purpose_vacation                    2500 non-null uint8\n",
      "purpose_wedding                     2500 non-null uint8\n",
      "home_ownership_have_mortgage        2500 non-null uint8\n",
      "home_ownership_home_mortgage        2500 non-null uint8\n",
      "home_ownership_own_home             2500 non-null uint8\n",
      "home_ownership_rent                 2500 non-null uint8\n",
      "flag_empty_job_years                2500 non-null float64\n",
      "flag_empty_delinquent               2500 non-null float64\n",
      "flag_max_loan                       2500 non-null float64\n",
      "flag_no_problems                    2500 non-null float64\n",
      "flag_no_bancruptcies                2500 non-null float64\n",
      "flag_long_term                      2500 non-null int64\n",
      "flag_empty_income                   2500 non-null float64\n",
      "dtypes: float64(22), int64(1), uint8(18)\n",
      "memory usage: 493.3 KB\n",
      "None\n",
      "\n",
      "Check NULLs\n",
      "years_in_current_job                0\n",
      "tax_liens                           0\n",
      "number_of_open_accounts             0\n",
      "years_of_credit_history             0\n",
      "maximum_open_credit                 0\n",
      "number_of_credit_problems           0\n",
      "months_since_last_delinquent        0\n",
      "bankruptcies                        0\n",
      "current_loan_amount                 0\n",
      "current_credit_balance              0\n",
      "monthly_debt                        0\n",
      "annual_income_zerona                0\n",
      "annual_income_medna                 0\n",
      "credit_score_medna                  0\n",
      "credit_score_zerona                 0\n",
      "monthly_debt_annual_income_medna    0\n",
      "purpose_business_loan               0\n",
      "purpose_buy_a_car                   0\n",
      "purpose_buy_house                   0\n",
      "purpose_debt_consolidation          0\n",
      "purpose_educational_expenses        0\n",
      "purpose_home_improvements           0\n",
      "purpose_major_purchase              0\n",
      "purpose_medical_bills               0\n",
      "purpose_moving                      0\n",
      "purpose_other                       0\n",
      "purpose_small_business              0\n",
      "purpose_take_a_trip                 0\n",
      "purpose_vacation                    0\n",
      "purpose_wedding                     0\n",
      "home_ownership_have_mortgage        0\n",
      "home_ownership_home_mortgage        0\n",
      "home_ownership_own_home             0\n",
      "home_ownership_rent                 0\n",
      "flag_empty_job_years                0\n",
      "flag_empty_delinquent               0\n",
      "flag_max_loan                       0\n",
      "flag_no_problems                    0\n",
      "flag_no_bancruptcies                0\n",
      "flag_long_term                      0\n",
      "flag_empty_income                   0\n",
      "dtype: int64\n"
     ]
    }
   ],
   "source": [
    "check_data(test_features)"
   ]
  },
  {
   "cell_type": "code",
   "execution_count": 36,
   "metadata": {},
   "outputs": [],
   "source": [
    "X = test_features.drop('annual_income_zerona', axis=1)\n",
    "X = test_features.drop('credit_score_medna', axis=1)\n"
   ]
  },
  {
   "cell_type": "code",
   "execution_count": 39,
   "metadata": {},
   "outputs": [],
   "source": [
    "X['purpose_renewable_energy'] = 0"
   ]
  },
  {
   "cell_type": "code",
   "execution_count": 44,
   "metadata": {},
   "outputs": [],
   "source": [
    "preds = final_model.predict(X[X_train.columns])"
   ]
  },
  {
   "cell_type": "code",
   "execution_count": 48,
   "metadata": {},
   "outputs": [],
   "source": [
    "preds = pd.DataFrame(preds, columns=['Credit Default'])"
   ]
  },
  {
   "cell_type": "code",
   "execution_count": 49,
   "metadata": {},
   "outputs": [],
   "source": [
    "preds.to_csv('ANikitina_predictions.csv', index=False)"
   ]
  },
  {
   "cell_type": "code",
   "execution_count": null,
   "metadata": {},
   "outputs": [],
   "source": []
  }
 ],
 "metadata": {
  "kernelspec": {
   "display_name": "Python 3",
   "language": "python",
   "name": "python3"
  },
  "language_info": {
   "codemirror_mode": {
    "name": "ipython",
    "version": 3
   },
   "file_extension": ".py",
   "mimetype": "text/x-python",
   "name": "python",
   "nbconvert_exporter": "python",
   "pygments_lexer": "ipython3",
   "version": "3.7.3"
  }
 },
 "nbformat": 4,
 "nbformat_minor": 2
}
